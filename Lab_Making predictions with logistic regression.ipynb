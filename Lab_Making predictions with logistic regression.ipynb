{
 "cells": [
  {
   "cell_type": "markdown",
   "metadata": {},
   "source": [
    "# Lab | Making predictions with logistic regression"
   ]
  },
  {
   "cell_type": "markdown",
   "metadata": {},
   "source": [
    "In this lab, you will be using the Sakila database of movie rentals.\n",
    "\n",
    "In order to optimize our inventory, we would like to know which films will be rented. We are asked to create a model to predict it. So we use the information we have from May 2005 to create the model."
   ]
  },
  {
   "cell_type": "code",
   "execution_count": 11,
   "metadata": {},
   "outputs": [],
   "source": [
    "import pandas as pd\n",
    "import numpy as np\n",
    "\n",
    "import pymysql\n",
    "from sqlalchemy import create_engine\n",
    "\n",
    "import getpass  # To get the password without showing the input"
   ]
  },
  {
   "cell_type": "code",
   "execution_count": 12,
   "metadata": {},
   "outputs": [
    {
     "name": "stdout",
     "output_type": "stream",
     "text": [
      "········\n"
     ]
    }
   ],
   "source": [
    "password = getpass.getpass()"
   ]
  },
  {
   "cell_type": "markdown",
   "metadata": {},
   "source": [
    "# Instructions"
   ]
  },
  {
   "cell_type": "markdown",
   "metadata": {},
   "source": [
    "# 1. Create a query or queries to extract the information you think may be relevant for building the prediction model. It should include some film features and some rental features (X)."
   ]
  },
  {
   "cell_type": "code",
   "execution_count": 39,
   "metadata": {},
   "outputs": [
    {
     "data": {
      "text/html": [
       "<div>\n",
       "<style scoped>\n",
       "    .dataframe tbody tr th:only-of-type {\n",
       "        vertical-align: middle;\n",
       "    }\n",
       "\n",
       "    .dataframe tbody tr th {\n",
       "        vertical-align: top;\n",
       "    }\n",
       "\n",
       "    .dataframe thead th {\n",
       "        text-align: right;\n",
       "    }\n",
       "</style>\n",
       "<table border=\"1\" class=\"dataframe\">\n",
       "  <thead>\n",
       "    <tr style=\"text-align: right;\">\n",
       "      <th></th>\n",
       "      <th>film_id</th>\n",
       "      <th>title</th>\n",
       "      <th>release_year</th>\n",
       "      <th>language_id</th>\n",
       "      <th>length</th>\n",
       "      <th>rating</th>\n",
       "      <th>special_features</th>\n",
       "      <th>rental_date</th>\n",
       "      <th>customer_id</th>\n",
       "    </tr>\n",
       "  </thead>\n",
       "  <tbody>\n",
       "    <tr>\n",
       "      <th>0</th>\n",
       "      <td>80</td>\n",
       "      <td>BLANKET BEVERLY</td>\n",
       "      <td>2006</td>\n",
       "      <td>1</td>\n",
       "      <td>148</td>\n",
       "      <td>G</td>\n",
       "      <td>Trailers</td>\n",
       "      <td>2005-05-24 22:53:30</td>\n",
       "      <td>130</td>\n",
       "    </tr>\n",
       "    <tr>\n",
       "      <th>1</th>\n",
       "      <td>333</td>\n",
       "      <td>FREAKY POCUS</td>\n",
       "      <td>2006</td>\n",
       "      <td>1</td>\n",
       "      <td>126</td>\n",
       "      <td>R</td>\n",
       "      <td>Trailers,Behind the Scenes</td>\n",
       "      <td>2005-05-24 22:54:33</td>\n",
       "      <td>459</td>\n",
       "    </tr>\n",
       "    <tr>\n",
       "      <th>2</th>\n",
       "      <td>373</td>\n",
       "      <td>GRADUATE LORD</td>\n",
       "      <td>2006</td>\n",
       "      <td>1</td>\n",
       "      <td>156</td>\n",
       "      <td>G</td>\n",
       "      <td>Trailers,Behind the Scenes</td>\n",
       "      <td>2005-05-24 23:03:39</td>\n",
       "      <td>408</td>\n",
       "    </tr>\n",
       "    <tr>\n",
       "      <th>3</th>\n",
       "      <td>535</td>\n",
       "      <td>LOVE SUICIDES</td>\n",
       "      <td>2006</td>\n",
       "      <td>1</td>\n",
       "      <td>181</td>\n",
       "      <td>R</td>\n",
       "      <td>Trailers,Behind the Scenes</td>\n",
       "      <td>2005-05-24 23:04:41</td>\n",
       "      <td>333</td>\n",
       "    </tr>\n",
       "    <tr>\n",
       "      <th>4</th>\n",
       "      <td>450</td>\n",
       "      <td>IDOLS SNATCHERS</td>\n",
       "      <td>2006</td>\n",
       "      <td>1</td>\n",
       "      <td>84</td>\n",
       "      <td>NC-17</td>\n",
       "      <td>Trailers</td>\n",
       "      <td>2005-05-24 23:05:21</td>\n",
       "      <td>222</td>\n",
       "    </tr>\n",
       "  </tbody>\n",
       "</table>\n",
       "</div>"
      ],
      "text/plain": [
       "   film_id            title  release_year  language_id  length rating  \\\n",
       "0       80  BLANKET BEVERLY          2006            1     148      G   \n",
       "1      333     FREAKY POCUS          2006            1     126      R   \n",
       "2      373    GRADUATE LORD          2006            1     156      G   \n",
       "3      535    LOVE SUICIDES          2006            1     181      R   \n",
       "4      450  IDOLS SNATCHERS          2006            1      84  NC-17   \n",
       "\n",
       "             special_features         rental_date  customer_id  \n",
       "0                    Trailers 2005-05-24 22:53:30          130  \n",
       "1  Trailers,Behind the Scenes 2005-05-24 22:54:33          459  \n",
       "2  Trailers,Behind the Scenes 2005-05-24 23:03:39          408  \n",
       "3  Trailers,Behind the Scenes 2005-05-24 23:04:41          333  \n",
       "4                    Trailers 2005-05-24 23:05:21          222  "
      ]
     },
     "execution_count": 39,
     "metadata": {},
     "output_type": "execute_result"
    }
   ],
   "source": [
    "connection_string = 'mysql+pymysql://root:' + password + '@localhost/sakila'\n",
    "engine = create_engine(connection_string)\n",
    "query_X = \"\"\"\n",
    "SELECT\n",
    "    f.film_id,\n",
    "    f.title,\n",
    "    f.release_year,\n",
    "    f.language_id,\n",
    "    f.length,\n",
    "    f.rating,\n",
    "    f.special_features,\n",
    "    r.rental_date,\n",
    "    r.customer_id\n",
    "FROM\n",
    "    film AS f\n",
    "LEFT JOIN\n",
    "    inventory AS i ON f.film_id = i.film_id\n",
    "LEFT JOIN\n",
    "    rental AS r ON i.inventory_id = r.inventory_id\n",
    "WHERE\n",
    "    r.rental_date BETWEEN '2005-05-01' AND '2005-05-31'\n",
    "\"\"\"\n",
    "\n",
    "data_X = pd.read_sql_query(query_X, engine)\n",
    "data_X.head()"
   ]
  },
  {
   "cell_type": "code",
   "execution_count": 40,
   "metadata": {},
   "outputs": [
    {
     "data": {
      "text/plain": [
       "(993, 9)"
      ]
     },
     "execution_count": 40,
     "metadata": {},
     "output_type": "execute_result"
    }
   ],
   "source": [
    "data_X.shape"
   ]
  },
  {
   "cell_type": "markdown",
   "metadata": {},
   "source": [
    "# 2. Create a query to get the list of all unique film titles and a boolean indicating if it was rented (rental_date) in May 2005. (Create new column called - 'rented_in_may'). This will be our TARGET (y) variable."
   ]
  },
  {
   "cell_type": "code",
   "execution_count": 41,
   "metadata": {},
   "outputs": [
    {
     "data": {
      "text/html": [
       "<div>\n",
       "<style scoped>\n",
       "    .dataframe tbody tr th:only-of-type {\n",
       "        vertical-align: middle;\n",
       "    }\n",
       "\n",
       "    .dataframe tbody tr th {\n",
       "        vertical-align: top;\n",
       "    }\n",
       "\n",
       "    .dataframe thead th {\n",
       "        text-align: right;\n",
       "    }\n",
       "</style>\n",
       "<table border=\"1\" class=\"dataframe\">\n",
       "  <thead>\n",
       "    <tr style=\"text-align: right;\">\n",
       "      <th></th>\n",
       "      <th>film_id</th>\n",
       "      <th>title</th>\n",
       "      <th>rented_in_may</th>\n",
       "    </tr>\n",
       "  </thead>\n",
       "  <tbody>\n",
       "    <tr>\n",
       "      <th>0</th>\n",
       "      <td>1</td>\n",
       "      <td>ACADEMY DINOSAUR</td>\n",
       "      <td>1</td>\n",
       "    </tr>\n",
       "    <tr>\n",
       "      <th>1</th>\n",
       "      <td>2</td>\n",
       "      <td>ACE GOLDFINGER</td>\n",
       "      <td>0</td>\n",
       "    </tr>\n",
       "    <tr>\n",
       "      <th>2</th>\n",
       "      <td>3</td>\n",
       "      <td>ADAPTATION HOLES</td>\n",
       "      <td>0</td>\n",
       "    </tr>\n",
       "    <tr>\n",
       "      <th>3</th>\n",
       "      <td>4</td>\n",
       "      <td>AFFAIR PREJUDICE</td>\n",
       "      <td>1</td>\n",
       "    </tr>\n",
       "    <tr>\n",
       "      <th>4</th>\n",
       "      <td>5</td>\n",
       "      <td>AFRICAN EGG</td>\n",
       "      <td>1</td>\n",
       "    </tr>\n",
       "  </tbody>\n",
       "</table>\n",
       "</div>"
      ],
      "text/plain": [
       "   film_id             title  rented_in_may\n",
       "0        1  ACADEMY DINOSAUR              1\n",
       "1        2    ACE GOLDFINGER              0\n",
       "2        3  ADAPTATION HOLES              0\n",
       "3        4  AFFAIR PREJUDICE              1\n",
       "4        5       AFRICAN EGG              1"
      ]
     },
     "execution_count": 41,
     "metadata": {},
     "output_type": "execute_result"
    }
   ],
   "source": [
    "query_y = \"\"\"\n",
    "SELECT\n",
    "    f.film_id,\n",
    "    f.title,\n",
    "    MAX(CASE WHEN r.rental_date BETWEEN '2005-05-01' AND '2005-05-31' THEN 1 ELSE 0 END) AS rented_in_may\n",
    "FROM\n",
    "    film AS f\n",
    "LEFT JOIN\n",
    "    inventory AS i ON f.film_id = i.film_id\n",
    "LEFT JOIN\n",
    "    rental AS r ON i.inventory_id = r.inventory_id\n",
    "GROUP BY\n",
    "    f.film_id, f.title\n",
    "\"\"\"\n",
    "\n",
    "data_y = pd.read_sql_query(query_y, engine)\n",
    "data_y.head()"
   ]
  },
  {
   "cell_type": "markdown",
   "metadata": {},
   "source": [
    "# 3. Read the data into a Pandas dataframe. At this point you should have 1000 rows. Number of columns depends on the number of features you chose."
   ]
  },
  {
   "cell_type": "code",
   "execution_count": 31,
   "metadata": {},
   "outputs": [],
   "source": [
    "X = pd.read_sql_query(query_X, connection_string)\n",
    "y = pd.read_sql_query(query_y, connection_string)"
   ]
  },
  {
   "cell_type": "code",
   "execution_count": 32,
   "metadata": {},
   "outputs": [
    {
     "data": {
      "text/html": [
       "<div>\n",
       "<style scoped>\n",
       "    .dataframe tbody tr th:only-of-type {\n",
       "        vertical-align: middle;\n",
       "    }\n",
       "\n",
       "    .dataframe tbody tr th {\n",
       "        vertical-align: top;\n",
       "    }\n",
       "\n",
       "    .dataframe thead th {\n",
       "        text-align: right;\n",
       "    }\n",
       "</style>\n",
       "<table border=\"1\" class=\"dataframe\">\n",
       "  <thead>\n",
       "    <tr style=\"text-align: right;\">\n",
       "      <th></th>\n",
       "      <th>film_id</th>\n",
       "      <th>title</th>\n",
       "      <th>release_year</th>\n",
       "      <th>language_id</th>\n",
       "      <th>length</th>\n",
       "      <th>rating</th>\n",
       "      <th>special_features</th>\n",
       "      <th>rental_date</th>\n",
       "      <th>customer_id</th>\n",
       "    </tr>\n",
       "  </thead>\n",
       "  <tbody>\n",
       "    <tr>\n",
       "      <th>0</th>\n",
       "      <td>80</td>\n",
       "      <td>BLANKET BEVERLY</td>\n",
       "      <td>2006</td>\n",
       "      <td>1</td>\n",
       "      <td>148</td>\n",
       "      <td>G</td>\n",
       "      <td>Trailers</td>\n",
       "      <td>2005-05-24 22:53:30</td>\n",
       "      <td>130</td>\n",
       "    </tr>\n",
       "    <tr>\n",
       "      <th>1</th>\n",
       "      <td>333</td>\n",
       "      <td>FREAKY POCUS</td>\n",
       "      <td>2006</td>\n",
       "      <td>1</td>\n",
       "      <td>126</td>\n",
       "      <td>R</td>\n",
       "      <td>Trailers,Behind the Scenes</td>\n",
       "      <td>2005-05-24 22:54:33</td>\n",
       "      <td>459</td>\n",
       "    </tr>\n",
       "    <tr>\n",
       "      <th>2</th>\n",
       "      <td>373</td>\n",
       "      <td>GRADUATE LORD</td>\n",
       "      <td>2006</td>\n",
       "      <td>1</td>\n",
       "      <td>156</td>\n",
       "      <td>G</td>\n",
       "      <td>Trailers,Behind the Scenes</td>\n",
       "      <td>2005-05-24 23:03:39</td>\n",
       "      <td>408</td>\n",
       "    </tr>\n",
       "    <tr>\n",
       "      <th>3</th>\n",
       "      <td>535</td>\n",
       "      <td>LOVE SUICIDES</td>\n",
       "      <td>2006</td>\n",
       "      <td>1</td>\n",
       "      <td>181</td>\n",
       "      <td>R</td>\n",
       "      <td>Trailers,Behind the Scenes</td>\n",
       "      <td>2005-05-24 23:04:41</td>\n",
       "      <td>333</td>\n",
       "    </tr>\n",
       "    <tr>\n",
       "      <th>4</th>\n",
       "      <td>450</td>\n",
       "      <td>IDOLS SNATCHERS</td>\n",
       "      <td>2006</td>\n",
       "      <td>1</td>\n",
       "      <td>84</td>\n",
       "      <td>NC-17</td>\n",
       "      <td>Trailers</td>\n",
       "      <td>2005-05-24 23:05:21</td>\n",
       "      <td>222</td>\n",
       "    </tr>\n",
       "    <tr>\n",
       "      <th>...</th>\n",
       "      <td>...</td>\n",
       "      <td>...</td>\n",
       "      <td>...</td>\n",
       "      <td>...</td>\n",
       "      <td>...</td>\n",
       "      <td>...</td>\n",
       "      <td>...</td>\n",
       "      <td>...</td>\n",
       "      <td>...</td>\n",
       "    </tr>\n",
       "    <tr>\n",
       "      <th>988</th>\n",
       "      <td>907</td>\n",
       "      <td>TRANSLATION SUMMER</td>\n",
       "      <td>2006</td>\n",
       "      <td>1</td>\n",
       "      <td>168</td>\n",
       "      <td>PG-13</td>\n",
       "      <td>Trailers</td>\n",
       "      <td>2005-05-30 23:25:14</td>\n",
       "      <td>311</td>\n",
       "    </tr>\n",
       "    <tr>\n",
       "      <th>989</th>\n",
       "      <td>627</td>\n",
       "      <td>NORTH TEQUILA</td>\n",
       "      <td>2006</td>\n",
       "      <td>1</td>\n",
       "      <td>67</td>\n",
       "      <td>NC-17</td>\n",
       "      <td>Commentaries,Deleted Scenes,Behind the Scenes</td>\n",
       "      <td>2005-05-30 23:29:22</td>\n",
       "      <td>593</td>\n",
       "    </tr>\n",
       "    <tr>\n",
       "      <th>990</th>\n",
       "      <td>782</td>\n",
       "      <td>SHAKESPEARE SADDLE</td>\n",
       "      <td>2006</td>\n",
       "      <td>1</td>\n",
       "      <td>60</td>\n",
       "      <td>PG-13</td>\n",
       "      <td>Commentaries,Behind the Scenes</td>\n",
       "      <td>2005-05-30 23:47:56</td>\n",
       "      <td>123</td>\n",
       "    </tr>\n",
       "    <tr>\n",
       "      <th>991</th>\n",
       "      <td>451</td>\n",
       "      <td>IGBY MAKER</td>\n",
       "      <td>2006</td>\n",
       "      <td>1</td>\n",
       "      <td>160</td>\n",
       "      <td>NC-17</td>\n",
       "      <td>Trailers,Behind the Scenes</td>\n",
       "      <td>2005-05-30 23:54:19</td>\n",
       "      <td>513</td>\n",
       "    </tr>\n",
       "    <tr>\n",
       "      <th>992</th>\n",
       "      <td>614</td>\n",
       "      <td>NAME DETECTIVE</td>\n",
       "      <td>2006</td>\n",
       "      <td>1</td>\n",
       "      <td>178</td>\n",
       "      <td>PG-13</td>\n",
       "      <td>Trailers,Commentaries,Behind the Scenes</td>\n",
       "      <td>2005-05-30 23:55:36</td>\n",
       "      <td>472</td>\n",
       "    </tr>\n",
       "  </tbody>\n",
       "</table>\n",
       "<p>993 rows × 9 columns</p>\n",
       "</div>"
      ],
      "text/plain": [
       "     film_id               title  release_year  language_id  length rating  \\\n",
       "0         80     BLANKET BEVERLY          2006            1     148      G   \n",
       "1        333        FREAKY POCUS          2006            1     126      R   \n",
       "2        373       GRADUATE LORD          2006            1     156      G   \n",
       "3        535       LOVE SUICIDES          2006            1     181      R   \n",
       "4        450     IDOLS SNATCHERS          2006            1      84  NC-17   \n",
       "..       ...                 ...           ...          ...     ...    ...   \n",
       "988      907  TRANSLATION SUMMER          2006            1     168  PG-13   \n",
       "989      627       NORTH TEQUILA          2006            1      67  NC-17   \n",
       "990      782  SHAKESPEARE SADDLE          2006            1      60  PG-13   \n",
       "991      451          IGBY MAKER          2006            1     160  NC-17   \n",
       "992      614      NAME DETECTIVE          2006            1     178  PG-13   \n",
       "\n",
       "                                  special_features         rental_date  \\\n",
       "0                                         Trailers 2005-05-24 22:53:30   \n",
       "1                       Trailers,Behind the Scenes 2005-05-24 22:54:33   \n",
       "2                       Trailers,Behind the Scenes 2005-05-24 23:03:39   \n",
       "3                       Trailers,Behind the Scenes 2005-05-24 23:04:41   \n",
       "4                                         Trailers 2005-05-24 23:05:21   \n",
       "..                                             ...                 ...   \n",
       "988                                       Trailers 2005-05-30 23:25:14   \n",
       "989  Commentaries,Deleted Scenes,Behind the Scenes 2005-05-30 23:29:22   \n",
       "990                 Commentaries,Behind the Scenes 2005-05-30 23:47:56   \n",
       "991                     Trailers,Behind the Scenes 2005-05-30 23:54:19   \n",
       "992        Trailers,Commentaries,Behind the Scenes 2005-05-30 23:55:36   \n",
       "\n",
       "     customer_id  \n",
       "0            130  \n",
       "1            459  \n",
       "2            408  \n",
       "3            333  \n",
       "4            222  \n",
       "..           ...  \n",
       "988          311  \n",
       "989          593  \n",
       "990          123  \n",
       "991          513  \n",
       "992          472  \n",
       "\n",
       "[993 rows x 9 columns]"
      ]
     },
     "execution_count": 32,
     "metadata": {},
     "output_type": "execute_result"
    }
   ],
   "source": [
    "X"
   ]
  },
  {
   "cell_type": "code",
   "execution_count": 33,
   "metadata": {},
   "outputs": [
    {
     "data": {
      "text/html": [
       "<div>\n",
       "<style scoped>\n",
       "    .dataframe tbody tr th:only-of-type {\n",
       "        vertical-align: middle;\n",
       "    }\n",
       "\n",
       "    .dataframe tbody tr th {\n",
       "        vertical-align: top;\n",
       "    }\n",
       "\n",
       "    .dataframe thead th {\n",
       "        text-align: right;\n",
       "    }\n",
       "</style>\n",
       "<table border=\"1\" class=\"dataframe\">\n",
       "  <thead>\n",
       "    <tr style=\"text-align: right;\">\n",
       "      <th></th>\n",
       "      <th>film_id</th>\n",
       "      <th>title</th>\n",
       "      <th>rented_in_may</th>\n",
       "    </tr>\n",
       "  </thead>\n",
       "  <tbody>\n",
       "    <tr>\n",
       "      <th>0</th>\n",
       "      <td>1</td>\n",
       "      <td>ACADEMY DINOSAUR</td>\n",
       "      <td>1</td>\n",
       "    </tr>\n",
       "    <tr>\n",
       "      <th>1</th>\n",
       "      <td>2</td>\n",
       "      <td>ACE GOLDFINGER</td>\n",
       "      <td>0</td>\n",
       "    </tr>\n",
       "    <tr>\n",
       "      <th>2</th>\n",
       "      <td>3</td>\n",
       "      <td>ADAPTATION HOLES</td>\n",
       "      <td>0</td>\n",
       "    </tr>\n",
       "    <tr>\n",
       "      <th>3</th>\n",
       "      <td>4</td>\n",
       "      <td>AFFAIR PREJUDICE</td>\n",
       "      <td>1</td>\n",
       "    </tr>\n",
       "    <tr>\n",
       "      <th>4</th>\n",
       "      <td>5</td>\n",
       "      <td>AFRICAN EGG</td>\n",
       "      <td>1</td>\n",
       "    </tr>\n",
       "    <tr>\n",
       "      <th>...</th>\n",
       "      <td>...</td>\n",
       "      <td>...</td>\n",
       "      <td>...</td>\n",
       "    </tr>\n",
       "    <tr>\n",
       "      <th>995</th>\n",
       "      <td>996</td>\n",
       "      <td>YOUNG LANGUAGE</td>\n",
       "      <td>0</td>\n",
       "    </tr>\n",
       "    <tr>\n",
       "      <th>996</th>\n",
       "      <td>997</td>\n",
       "      <td>YOUTH KICK</td>\n",
       "      <td>0</td>\n",
       "    </tr>\n",
       "    <tr>\n",
       "      <th>997</th>\n",
       "      <td>998</td>\n",
       "      <td>ZHIVAGO CORE</td>\n",
       "      <td>1</td>\n",
       "    </tr>\n",
       "    <tr>\n",
       "      <th>998</th>\n",
       "      <td>999</td>\n",
       "      <td>ZOOLANDER FICTION</td>\n",
       "      <td>1</td>\n",
       "    </tr>\n",
       "    <tr>\n",
       "      <th>999</th>\n",
       "      <td>1000</td>\n",
       "      <td>ZORRO ARK</td>\n",
       "      <td>1</td>\n",
       "    </tr>\n",
       "  </tbody>\n",
       "</table>\n",
       "<p>1000 rows × 3 columns</p>\n",
       "</div>"
      ],
      "text/plain": [
       "     film_id              title  rented_in_may\n",
       "0          1   ACADEMY DINOSAUR              1\n",
       "1          2     ACE GOLDFINGER              0\n",
       "2          3   ADAPTATION HOLES              0\n",
       "3          4   AFFAIR PREJUDICE              1\n",
       "4          5        AFRICAN EGG              1\n",
       "..       ...                ...            ...\n",
       "995      996     YOUNG LANGUAGE              0\n",
       "996      997         YOUTH KICK              0\n",
       "997      998       ZHIVAGO CORE              1\n",
       "998      999  ZOOLANDER FICTION              1\n",
       "999     1000          ZORRO ARK              1\n",
       "\n",
       "[1000 rows x 3 columns]"
      ]
     },
     "execution_count": 33,
     "metadata": {},
     "output_type": "execute_result"
    }
   ],
   "source": [
    "y"
   ]
  },
  {
   "cell_type": "markdown",
   "metadata": {},
   "source": [
    "# 4. Analyze extracted features (X) and transform them. You may need to encode some categorical variables, or scale numerical variables."
   ]
  },
  {
   "cell_type": "code",
   "execution_count": 44,
   "metadata": {},
   "outputs": [
    {
     "data": {
      "text/plain": [
       "film_id                      int64\n",
       "title                       object\n",
       "release_year                 int64\n",
       "language_id                  int64\n",
       "length                       int64\n",
       "rating                      object\n",
       "special_features            object\n",
       "rental_date         datetime64[ns]\n",
       "customer_id                  int64\n",
       "dtype: object"
      ]
     },
     "execution_count": 44,
     "metadata": {},
     "output_type": "execute_result"
    }
   ],
   "source": [
    "X.dtypes"
   ]
  },
  {
   "cell_type": "code",
   "execution_count": 45,
   "metadata": {},
   "outputs": [
    {
     "data": {
      "text/plain": [
       "film_id             0\n",
       "title               0\n",
       "release_year        0\n",
       "language_id         0\n",
       "length              0\n",
       "rating              0\n",
       "special_features    0\n",
       "rental_date         0\n",
       "customer_id         0\n",
       "dtype: int64"
      ]
     },
     "execution_count": 45,
     "metadata": {},
     "output_type": "execute_result"
    }
   ],
   "source": [
    "X.isna().sum()"
   ]
  },
  {
   "cell_type": "code",
   "execution_count": 49,
   "metadata": {},
   "outputs": [
    {
     "data": {
      "text/plain": [
       "PG-13    234\n",
       "NC-17    201\n",
       "R        197\n",
       "PG       181\n",
       "G        180\n",
       "Name: rating, dtype: int64"
      ]
     },
     "execution_count": 49,
     "metadata": {},
     "output_type": "execute_result"
    }
   ],
   "source": [
    "# There are two categorical columns in the dataframe 'X'\n",
    "\n",
    "X['rating'].value_counts(dropna=False)"
   ]
  },
  {
   "cell_type": "code",
   "execution_count": 46,
   "metadata": {},
   "outputs": [
    {
     "data": {
      "text/plain": [
       "Trailers,Commentaries,Behind the Scenes                   85\n",
       "Commentaries,Deleted Scenes,Behind the Scenes             80\n",
       "Deleted Scenes,Behind the Scenes                          77\n",
       "Commentaries                                              75\n",
       "Deleted Scenes                                            74\n",
       "Trailers                                                  68\n",
       "Trailers,Commentaries,Deleted Scenes,Behind the Scenes    67\n",
       "Behind the Scenes                                         66\n",
       "Trailers,Commentaries                                     65\n",
       "Trailers,Behind the Scenes                                61\n",
       "Commentaries,Behind the Scenes                            59\n",
       "Trailers,Commentaries,Deleted Scenes                      56\n",
       "Commentaries,Deleted Scenes                               56\n",
       "Trailers,Deleted Scenes                                   56\n",
       "Trailers,Deleted Scenes,Behind the Scenes                 48\n",
       "Name: special_features, dtype: int64"
      ]
     },
     "execution_count": 46,
     "metadata": {},
     "output_type": "execute_result"
    }
   ],
   "source": [
    "X['special_features'].value_counts(dropna=False)"
   ]
  },
  {
   "cell_type": "markdown",
   "metadata": {},
   "source": [
    "# 5. Create a logistic regression model to predict 'rented_in_may' from the cleaned data."
   ]
  },
  {
   "cell_type": "code",
   "execution_count": null,
   "metadata": {},
   "outputs": [],
   "source": [
    "log_reg_model = LogisticRegression()\n",
    "log_reg_model.fit(X_train, y_train)"
   ]
  },
  {
   "cell_type": "markdown",
   "metadata": {},
   "source": [
    "# 6. Evaluate the results."
   ]
  },
  {
   "cell_type": "code",
   "execution_count": null,
   "metadata": {},
   "outputs": [],
   "source": [
    "# Make predictions on the test set\n",
    "y_pred = log_reg_model.predict(X_test)\n",
    "\n",
    "# Calculate accuracy\n",
    "accuracy = accuracy_score(y_test, y_pred)\n",
    "print(\"Accuracy:\", accuracy)\n",
    "\n",
    "# Calculate confusion matrix\n",
    "conf_matrix = confusion_matrix(y_test, y_pred)\n",
    "print(\"Confusion Matrix:\")\n",
    "print(conf_matrix)"
   ]
  }
 ],
 "metadata": {
  "kernelspec": {
   "display_name": "Python 3 (ipykernel)",
   "language": "python",
   "name": "python3"
  },
  "language_info": {
   "codemirror_mode": {
    "name": "ipython",
    "version": 3
   },
   "file_extension": ".py",
   "mimetype": "text/x-python",
   "name": "python",
   "nbconvert_exporter": "python",
   "pygments_lexer": "ipython3",
   "version": "3.10.9"
  }
 },
 "nbformat": 4,
 "nbformat_minor": 2
}
